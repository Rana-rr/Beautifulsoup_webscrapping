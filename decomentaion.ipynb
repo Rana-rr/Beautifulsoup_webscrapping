{
 "cells": [
  {
   "cell_type": "markdown",
   "id": "72737544",
   "metadata": {},
   "source": [
    "# What’s web scraping?\n",
    "Web scraping is a technique used to collect data from the internet. Web scrapers are programmed to go to websites, get the relevant pages and extract the information needed. The automation of this process allows tons of data to be extracted at a high speed.\n",
    "\n",
    "\n",
    "\n",
    "\n",
    "\n",
    "\n",
    "\n"
   ]
  },
  {
   "cell_type": "markdown",
   "id": "bfaa5e91",
   "metadata": {},
   "source": [
    "# Why use web scraping?\n",
    "Some websites offer datasets that are downloadable in CSV format, or accessible via an Application Programming Interface (API). But many websites with useful data don’t offer these convenient options. Therefore, to get it we need to make use of web scraping.\n"
   ]
  },
  {
   "cell_type": "markdown",
   "id": "25e18ddc",
   "metadata": {},
   "source": [
    "# Web scraping permission\n",
    "Before going to the trouble of building a web scraper we should make sure we are allowed to use the targeted data. We do that by adding /robots.txt at the end of the URL, in case of prohibition a warning will be displayed."
   ]
  },
  {
   "cell_type": "markdown",
   "id": "f533ca2a",
   "metadata": {},
   "source": [
    "# Web scrapping Libraries in Python\n",
    "Web scraping tools vary from simple ones where no coding experience is required to advanced ones such as simulating browser interaction. Below are some of the web scraping libraries in Python.\n",
    "\n",
    "· Scrapy,\n",
    "\n",
    "· Selenium-Python\n",
    "\n",
    "· Beautiful Soup\n",
    "\n",
    "· lxml\n",
    "\n",
    "· HTQL\n",
    "\n",
    "· Mechanize"
   ]
  },
  {
   "cell_type": "markdown",
   "id": "105a4d8f",
   "metadata": {},
   "source": [
    "# Scraping data from H&M website\n",
    "In this tutorial, we will build a web scraper using the libraries Beautiful Soup and Requests in Python to extract the following data from H&M website.\n",
    "\n",
    "· Product price\n",
    "\n",
    "· Product type\n",
    "\n",
    "· Product Rating\n",
    "\n"
   ]
  },
  {
   "cell_type": "markdown",
   "id": "7c7830fe",
   "metadata": {},
   "source": [
    "# Downloading and parsing the page\n",
    "We start by downloading the pages using the method get in the Python requests library. It sends a request to the specified URL. The headers argument informs the web server who is making the request, so our request is not denied."
   ]
  },
  {
   "cell_type": "code",
   "execution_count": null,
   "id": "4587c4bf",
   "metadata": {},
   "outputs": [],
   "source": []
  }
 ],
 "metadata": {
  "kernelspec": {
   "display_name": "Python 3 (ipykernel)",
   "language": "python",
   "name": "python3"
  },
  "language_info": {
   "codemirror_mode": {
    "name": "ipython",
    "version": 3
   },
   "file_extension": ".py",
   "mimetype": "text/x-python",
   "name": "python",
   "nbconvert_exporter": "python",
   "pygments_lexer": "ipython3",
   "version": "3.10.9"
  }
 },
 "nbformat": 4,
 "nbformat_minor": 5
}
