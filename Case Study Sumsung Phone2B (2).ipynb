{
 "cells": [
  {
   "cell_type": "markdown",
   "id": "9295e6e4",
   "metadata": {},
   "source": [
    "# Build a Python web scraper with Beautiful Soup\n"
   ]
  },
  {
   "cell_type": "markdown",
   "id": "d961d70f",
   "metadata": {},
   "source": [
    "# What’s web scraping?\n",
    "-Web scraping is a technique used to collect data from the internet. Web scrapers are programmed to go to websites, get the relevant pages and extract the information needed. The automation of this process allows tons of data to be extracted at a high speed.\n"
   ]
  },
  {
   "cell_type": "markdown",
   "id": "46da1ae9",
   "metadata": {},
   "source": [
    "# Scraping data from 2b website\n"
   ]
  },
  {
   "cell_type": "markdown",
   "id": "594101b9",
   "metadata": {},
   "source": [
    "In this tutorial, we will build a web scraper using the libraries Beautiful Soup and Requests in Python to extract the following data from 2b website.\n",
    "\n",
    "· Product Type\n",
    "\n",
    "· Product Price\n",
    "\n",
    "· Product Rating\n",
    "\n",
    "Let's Goooooo"
   ]
  },
  {
   "cell_type": "markdown",
   "id": "bffc1196",
   "metadata": {},
   "source": [
    "# Case study : 2b Samsung Phone\n",
    "URL :https://2b.com.eg/en/catalogsearch/result/?q=sumsung How Do you scrape Data From ex website ?\n",
    "\n",
    "1- find The URL that you want to scrape\n",
    "\n",
    "2- inspecting the page\n",
    "\n",
    "3- find the data you want to extract\n",
    "\n",
    "4- Write the code 5-run and extract\n",
    "\n",
    "6-export the data in the required format"
   ]
  },
  {
   "cell_type": "markdown",
   "id": "eacf772c",
   "metadata": {},
   "source": [
    "# importing libraries"
   ]
  },
  {
   "cell_type": "code",
   "execution_count": 1,
   "id": "77db1211",
   "metadata": {},
   "outputs": [],
   "source": [
    "import pandas as pd \n",
    "import requests"
   ]
  },
  {
   "cell_type": "markdown",
   "id": "505ab928",
   "metadata": {},
   "source": [
    "# import libraries & methods "
   ]
  },
  {
   "cell_type": "code",
   "execution_count": 2,
   "id": "d3b7af01",
   "metadata": {},
   "outputs": [],
   "source": [
    "#pip install bs4 "
   ]
  },
  {
   "cell_type": "code",
   "execution_count": 3,
   "id": "bf81be52",
   "metadata": {},
   "outputs": [],
   "source": [
    "from bs4 import BeautifulSoup as bs #for Scrapping "
   ]
  },
  {
   "cell_type": "code",
   "execution_count": 4,
   "id": "e0665d7d",
   "metadata": {},
   "outputs": [],
   "source": [
    "from urllib.request import urlopen #for Connection (open )"
   ]
  },
  {
   "cell_type": "markdown",
   "id": "5e80b08d",
   "metadata": {},
   "source": [
    "\n",
    "# import URL"
   ]
  },
  {
   "cell_type": "code",
   "execution_count": 5,
   "id": "a2c84779",
   "metadata": {},
   "outputs": [],
   "source": [
    "url =\"https://2b.com.eg/en/catalogsearch/result/?q=samsung\""
   ]
  },
  {
   "cell_type": "markdown",
   "id": "339a9bbe",
   "metadata": {},
   "source": [
    "\n",
    "# Create a client - based request to get the request (open con.)\n",
    "\n",
    "We start by downloading the pages using the method get in the Python requests library. It sends a request to the specified URL."
   ]
  },
  {
   "cell_type": "code",
   "execution_count": 6,
   "id": "316f7ec5",
   "metadata": {},
   "outputs": [],
   "source": [
    "client = urlopen(url)"
   ]
  },
  {
   "cell_type": "markdown",
   "id": "1bbfcc87",
   "metadata": {},
   "source": [
    " So our request is not denied."
   ]
  },
  {
   "cell_type": "markdown",
   "id": "aaaf0d82",
   "metadata": {},
   "source": [
    "# Getting HTML code of the full website\n",
    "\n",
    "Once the request was successful, we want to convert it into a code using .read(). The output is a huge mess, HTML content that we cannot make sense of. That’s when Beautiful Soup Python library comes into play."
   ]
  },
  {
   "cell_type": "code",
   "execution_count": 7,
   "id": "21df8a6a",
   "metadata": {},
   "outputs": [],
   "source": [
    "page = client.read() #to read html code "
   ]
  },
  {
   "cell_type": "code",
   "execution_count": 8,
   "id": "f1fa8e69",
   "metadata": {},
   "outputs": [],
   "source": [
    "#page "
   ]
  },
  {
   "cell_type": "code",
   "execution_count": 9,
   "id": "d5487572",
   "metadata": {},
   "outputs": [],
   "source": [
    "client.close () #for closing html code"
   ]
  },
  {
   "cell_type": "markdown",
   "id": "5f2c25cd",
   "metadata": {},
   "source": [
    "\n",
    "# Creating an HTML parser using bs.soup\n",
    "\n",
    "Beautiful Soup is a Python library for parsing structured data. \n",
    "\n",
    "When you add the last line of code, a Beautiful Soup object is created. It takes page.text, which is the HTML content you scraped earlier, as its input. The second argument, “html.parser”, makes sure that you use the right parser for HTML content."
   ]
  },
  {
   "cell_type": "code",
   "execution_count": 10,
   "id": "e8cded62",
   "metadata": {},
   "outputs": [],
   "source": [
    "soup = bs (page,\"html\") # kind of parser = html\n",
    "#soup is container "
   ]
  },
  {
   "cell_type": "code",
   "execution_count": 11,
   "id": "f1833a40",
   "metadata": {},
   "outputs": [],
   "source": [
    "#soup"
   ]
  },
  {
   "cell_type": "markdown",
   "id": "55236823",
   "metadata": {},
   "source": [
    "\n",
    "# Before we go any further let’s look at the Beautiful Soup Functions used in this tutorial.\n",
    "\n",
    "find_all — returns a list containing all results matching the search criteria defined.\n",
    "\n",
    "find — returns the first result matching a search criterion that we applied on a Beautiful Soup object.\n"
   ]
  },
  {
   "cell_type": "markdown",
   "id": "bf4dff68",
   "metadata": {},
   "source": [
    "# Creating a container For target Data\n"
   ]
  },
  {
   "cell_type": "code",
   "execution_count": 12,
   "id": "b9a7b9a1",
   "metadata": {},
   "outputs": [],
   "source": [
    "container = soup.find_all ('div',{'class':\"product details product-item-details\"})"
   ]
  },
  {
   "cell_type": "code",
   "execution_count": 13,
   "id": "585179c5",
   "metadata": {},
   "outputs": [
    {
     "data": {
      "text/plain": [
       "'\\n\\n\\r\\n                                Samsung Galaxy A23 - 4GB RAM - 128GB                            \\n\\n\\n\\nRating:\\n\\n0%\\n\\n\\n\\n\\n\\nAs low as\\nEGP6,199.00\\n\\n\\n \\n\\n\\n\\nAdd to Wish List\\n\\n\\n\\n\\nAdd to Cart\\n\\n\\n\\n\\nAdd to Compare\\n\\n\\n\\n'"
      ]
     },
     "execution_count": 13,
     "metadata": {},
     "output_type": "execute_result"
    }
   ],
   "source": [
    "container[0].text"
   ]
  },
  {
   "cell_type": "code",
   "execution_count": 14,
   "id": "4bb7c1c4",
   "metadata": {
    "scrolled": true
   },
   "outputs": [
    {
     "data": {
      "text/plain": [
       "48"
      ]
     },
     "execution_count": 14,
     "metadata": {},
     "output_type": "execute_result"
    }
   ],
   "source": [
    "len (container)"
   ]
  },
  {
   "cell_type": "markdown",
   "id": "0d26a6df",
   "metadata": {},
   "source": [
    "# Extracting product type and price details\n",
    "\n",
    "\n",
    "Clicking on inspect product type reveals the following code. we can either use the find method passing the tag <a> class=”product-item-link”."
   ]
  },
  {
   "cell_type": "code",
   "execution_count": 15,
   "id": "d5280241",
   "metadata": {},
   "outputs": [],
   "source": [
    "item_name = soup.find_all ('a',{'class':'product-item-link'})\n"
   ]
  },
  {
   "cell_type": "code",
   "execution_count": 16,
   "id": "cd84a41d",
   "metadata": {},
   "outputs": [
    {
     "data": {
      "text/plain": [
       "'Samsung Galaxy A23 - 4GB RAM - 128GB'"
      ]
     },
     "execution_count": 16,
     "metadata": {},
     "output_type": "execute_result"
    }
   ],
   "source": [
    "item_name [0].text.strip()"
   ]
  },
  {
   "cell_type": "code",
   "execution_count": 17,
   "id": "2988e40c",
   "metadata": {},
   "outputs": [],
   "source": [
    "item_rating = soup.find_all ('div',{'class':'rating-result'})"
   ]
  },
  {
   "cell_type": "code",
   "execution_count": 18,
   "id": "e312bbc0",
   "metadata": {},
   "outputs": [
    {
     "data": {
      "text/plain": [
       "'0%'"
      ]
     },
     "execution_count": 18,
     "metadata": {},
     "output_type": "execute_result"
    }
   ],
   "source": [
    "item_rating[0].text.strip()"
   ]
  },
  {
   "cell_type": "code",
   "execution_count": 19,
   "id": "eba04941",
   "metadata": {},
   "outputs": [],
   "source": [
    "item_price = soup.find_all('span',{'class':'price-wrapper'})"
   ]
  },
  {
   "cell_type": "code",
   "execution_count": 20,
   "id": "f216aa40",
   "metadata": {},
   "outputs": [
    {
     "data": {
      "text/plain": [
       "'EGP6,199.00'"
      ]
     },
     "execution_count": 20,
     "metadata": {},
     "output_type": "execute_result"
    }
   ],
   "source": [
    "item_price[0].text"
   ]
  },
  {
   "cell_type": "markdown",
   "id": "f62f1da6",
   "metadata": {},
   "source": [
    "# compine it together\n"
   ]
  },
  {
   "cell_type": "code",
   "execution_count": 21,
   "id": "e4493dc5",
   "metadata": {},
   "outputs": [
    {
     "data": {
      "text/plain": [
       "34"
      ]
     },
     "execution_count": 21,
     "metadata": {},
     "output_type": "execute_result"
    }
   ],
   "source": [
    "file = open (\"Desktop/case_study/2b_samsung.csv\",\"w\")\n",
    "header = 'item_name,item_rating,item_price \\n'\n",
    "file.write(header)"
   ]
  },
  {
   "cell_type": "code",
   "execution_count": 22,
   "id": "02fb6b9a",
   "metadata": {},
   "outputs": [
    {
     "name": "stdout",
     "output_type": "stream",
     "text": [
      "Samsung Galaxy A23 - 4GB RAM - 128GB , 0% , As low as EGP6199.00\n",
      "\n",
      "Samsung Galaxy A04s - 4GB RAM - 64GB , 0% , As low as EGP4399.00\n",
      "\n",
      "Samsung Galaxy S23 Ultra - 12GB RAM - 256GB , 0% , As low as EGP51999.00\n",
      "\n",
      "Samsung Galaxy A04s - 4GB RAM - 128GB , 0% , As low as EGP4899.00\n",
      "\n",
      "Samsung Galaxy A13 - 4GB RAM - 64GB , 100% , As low as EGP4899.00\n",
      "\n",
      "Samsung Galaxy A13 - 4GB RAM - 128GB , 0% , As low as EGP5399.00\n",
      "\n",
      "Samsung Galaxy A23 - 4GB RAM - 128GB - Light Blue , 0% , was EGP7199.00     Special Price EGP6199.00\n",
      "\n",
      "Samsung Galaxy A23 - 4GB RAM - 128GB - Black , 0% , was EGP7199.00     Special Price EGP6199.00\n",
      "\n",
      "Samsung Galaxy A04s - 4GB RAM - 128GB - Copper , 0% , was EGP6499.00     Special Price EGP4899.00\n",
      "\n",
      "Samsung Galaxy A04s - 4GB RAM - 128GB - White , 0% , was EGP6499.00     Special Price EGP4899.00\n",
      "\n",
      "Samsung Galaxy A04s - 4GB RAM - 64GB - Copper , 0% , was EGP5199.00     Special Price EGP4399.00\n",
      "\n",
      "Samsung Galaxy A04s - 4GB RAM - 128GB - Black , 0% , was EGP6499.00     Special Price EGP4899.00\n",
      "\n",
      "Samsung Galaxy A04s - 4GB RAM - 64GB - Black , 0% , was EGP5199.00     Special Price EGP4399.00\n",
      "\n",
      "Samsung Galaxy S23 Ultra - 12GB RAM - 256GB - Green , 0% , was EGP57999.00     Special Price EGP51999.00\n",
      "\n",
      "Samsung Galaxy S23 Ultra - 12GB RAM - 256GB - Cream , 0% , was EGP57999.00     Special Price EGP51999.00\n",
      "\n",
      "Samsung Galaxy A13 - 4GB RAM - 128GB - Black , 0% , was EGP6699.00     Special Price EGP5399.00\n",
      "\n",
      "Samsung Galaxy A13 - 4GB RAM - 128GB - Blue , 0% , was EGP6699.00     Special Price EGP5399.00\n",
      "\n",
      "Samsung Galaxy A13 - 4GB RAM - 64GB - Blue , 100% , was EGP5899.00     Special Price EGP4899.00\n",
      "\n",
      "Samsung Galaxy A13 - 4GB RAM - 64GB - Black , 100% , was EGP5899.00     Special Price EGP4899.00\n",
      "\n",
      "Samsung Galaxy A14 - 4GB RAM - 128GB - Light Green , 0% , was EGP6999.00     Special Price EGP5719.00\n",
      "\n",
      "Samsung Galaxy A14 - 4GB RAM - 64GB - Black , 0% , was EGP5999.00     Special Price EGP5249.00\n",
      "\n",
      "Samsung Galaxy A14 - 4GB RAM - 128GB - Black , 0% , was EGP6999.00     Special Price EGP5719.00\n",
      "\n",
      "Samsung Galaxy A14 - 4GB RAM - 64GB - Light Green , 0% , was EGP5999.00     Special Price EGP5249.00\n",
      "\n",
      "SAMSUNG 43-Inch LED Smart FHD TV (UA43T5300AUXEG, 2020 Model) , 95% , was EGP9399.00     Special Price EGP8999.00\n",
      "\n",
      "SAMSUNG 43-Inch Crystal UHD AU-7000 Series - 4K UHD HDR Smart TV (UA43AU7000UXEG, 2021 Model) , 83% , was EGP10299.00     Special Price EGP9299.00\n",
      "\n",
      "SAMSUNG The Frame 65-Inch QLED - 4K UHD Quantum HDR Smart TV - (QA65LS03BAUXEG, 2022 Model) , 0% , was EGP42299.00     Special Price EGP34999.00\n",
      "\n",
      "SAMSUNG 32-Inch LED Smart HD TV (UA32T5300AUXEG, 2020 Model) , 20% , was EGP5899.00     Special Price EGP5499.00\n",
      "\n",
      "Samsung 65-Inch Neo QLED 4K QN85A Series - 4K UHD Quantum HDR 24x Smart TV - (QA65QN85BAUXEG, 2022 Model) , 0% , was EGP49999.00     Special Price EGP37999.00\n",
      "\n",
      "SAMSUNG The Frame 55-Inch QLED - 4K UHD Quantum HDR Smart TV - (QA55LS03BAUXEG, 2022 Model) , 0% , was EGP30799.00     Special Price EGP23999.00\n",
      "\n",
      "SAMSUNG 40-Inch LED Smart FHD TV (UA40T5300AUXEG, 2020 Model) , 89% , was EGP8999.00     Special Price EGP8199.00\n",
      "\n",
      "Samsung TV 55\" LED UHD Smart Built In Receiver - 55CU7000 , 0% , was EGP13549.00     Special Price EGP12399.00\n",
      "\n",
      "Samsung TV 65 \" LED UHD Smart Built In Receiver - 65CU7000 , 0% , was EGP17349.00     Special Price EGP15299.00\n",
      "\n",
      "Samsung TV 43\" LED UHD Smart Built In Receiver - CU7000 , 0% , was EGP10599.00     Special Price EGP9599.00\n",
      "\n",
      "Samsung TV 50\" LED UHD Smart Built In Receiver - 50CU7000 , 0% , was EGP11999.00     Special Price EGP10699.00\n",
      "\n",
      "Samsung 85\" LED UHD Smart Built In Receiver - 85CU8000 , 0% , was EGP53899.00     Special Price EGP46999.00\n",
      "\n",
      "Samsung TV 55\" QLED UHD Smart Built In Receiver - 55Q60C , 0% , was EGP19499.00     Special Price EGP17999.00\n",
      "\n",
      "Samsung TV 75\" LED UHD Smart Built In Receiver - 75CU7000 , 0% , EGP29999.00\n",
      "\n",
      "Samsung TV 55\" Neo 4k UHD Smart Built In Receiver -55QN85C , 0% , was EGP38899.00     Special Price EGP27999.00\n",
      "\n",
      "Samsung TV 65\" QLED 4K UHD Smart Built In Receiver - 65Q70C , 0% , was EGP32999.00     Special Price EGP26999.00\n",
      "\n",
      "Samsung TV 65\" QLED 4K UHD Smart Built In Receiver - 65Q60C , 0% , was EGP26999.00     Special Price EGP21999.00\n",
      "\n",
      "Samsung Galaxy Watch 5 Pro 45mm - Black Titanium , 0% , was EGP18999.00     Special Price EGP16499.00\n",
      "\n",
      "Samsung Galaxy Watch 5 Bluetooth 44mm - Graphite , 0% , was EGP13499.00     Special Price EGP10999.00\n",
      "\n",
      "Samsung Galaxy Watch 5 Bluetooth 44mm - Sapphire , 0% , was EGP13499.00     Special Price EGP10999.00\n",
      "\n",
      "Samsung Galaxy Watch 5 Pro 45mm - Gray Titanium , 0% , was EGP18999.00     Special Price EGP16499.00\n",
      "\n",
      "Samsung Galaxy Watch 5 Bluetooth 44mm - Silver , 0% , was EGP13499.00     Special Price EGP10999.00\n",
      "\n",
      "Samsung Galaxy Buds 2 Pro - Purple , 0% , was EGP7899.00     Special Price EGP7499.00\n",
      "\n",
      "Samsung Galaxy Buds 2 Pro - Graphite (2B Warranty) , 0% , was EGP7899.00     Special Price EGP7499.00\n",
      "\n",
      "Samsung Galaxy Buds 2 Pro - Graphite , 0% , was EGP7899.00     Special Price EGP7499.00\n",
      "\n",
      "Samsung Type-C Earphones AKG - Black , 100% , was EGP1099.00     Special Price EGP899.00\n",
      "\n",
      "Samsung  In Ear Basic Mass Earphone - EO-IG935BWEGWW - White , 0% , was EGP529.00     Special Price EGP449.00\n",
      "\n",
      "Samsung Type-C Earphones AKG - White , 80% , was EGP1099.00     Special Price EGP899.00\n",
      "\n",
      "Back cover Leather For Samsung Galaxy S23 Ultra Cover With Card Slot Wallet Magnetic Cardholder Stand Shockproof Case - Black , 0% , EGP599.00\n",
      "\n",
      "Back Cover Transparent Acrylic Shockproof For Samsung Galaxy A22 - Black , 0% , was EGP99.00     Special Price EGP59.00\n",
      "\n",
      "Glass Screen Protector For Samsung Galaxy A70 - Black , 0% , was EGP79.00     Special Price EGP49.00\n",
      "\n",
      "Boter Back Cover for Samsung Galaxy A22 - Black , 0% , EGP149.00\n",
      "\n",
      "Boter Back Cover for Samsung Galaxy A22 - Blue , 0% , EGP149.00\n",
      "\n",
      "Back Cover Transparent Acrylic Shockproof For Samsung Galaxy A22 - Blue , 0% , was EGP99.00     Special Price EGP59.00\n",
      "\n",
      "Back Cover Transparent Acrylic Shockproof For Samsung Galaxy A22 - Red , 0% , was EGP99.00     Special Price EGP59.00\n",
      "\n",
      "Back Cover Transparent Acrylic Shockproof For Samsung Galaxy A22 - Green , 0% , was EGP99.00     Special Price EGP59.00\n",
      "\n",
      "Samsung Galaxy S22 Ultra Smart Clear View Cover - Black , 0% , was EGP1499.00     Special Price EGP1099.00\n",
      "\n",
      "Back Cover Leather For Samsung Galaxy A32 - Black , 0% , was EGP179.00     Special Price EGP149.00\n",
      "\n",
      "Back Cover Leather For Samsung Galaxy A32 - Blue , 0% , was EGP179.00     Special Price EGP149.00\n",
      "\n",
      "Boter Back Cover for Samsung Galaxy A72 - Blue , 0% , EGP149.00\n",
      "\n",
      "Boter Back Cover for Samsung Galaxy A72 - Red , 0% , EGP149.00\n",
      "\n",
      "Boter Back Cover for Samsung Galaxy A72 - Green , 0% , EGP149.00\n",
      "\n",
      "Boter Back Cover for Samsung Galaxy A72 - Black , 0% , EGP149.00\n",
      "\n",
      "Back Cover Leather For Samsung Galaxy A32 - Red , 0% , was EGP149.00     Special Price EGP99.00\n",
      "\n",
      "Glass Screen Protector For Samsung Galaxy S23 Ultra - Black , 0% , EGP399.00\n",
      "\n",
      "Back Cover Leather For Samsung Galaxy S22 Ultra - Black , 0% , was EGP359.00     Special Price EGP299.00\n",
      "\n",
      "Back Cover leather For Samsung Galaxy S22 Plus - Blue , 0% , was EGP359.00     Special Price EGP299.00\n",
      "\n",
      "Back Cover leather For Samsung Galaxy S22 Plus - Green , 0% , was EGP359.00     Special Price EGP299.00\n",
      "\n",
      "Silicone Back Cover for Samsung Galaxy A32 - Dark Blue , 0% , was EGP99.00     Special Price EGP49.00\n",
      "\n",
      "Silicone Back Cover for Samsung Galaxy A32 - Pink , 0% , was EGP99.00     Special Price EGP49.00\n",
      "\n",
      "Glass Screen Protector For Samsung Galaxy S23 Plus - Black , 0% , EGP399.00\n",
      "\n",
      "Back cover Leather For Samsung Galaxy S23 Ultra Cover With Card Slot Wallet Magnetic Cardholder Stand Shockproof Case - Blue , 0% , EGP599.00\n",
      "\n",
      "Cover Leather Wrapped PC Inner Shell for Samsung Galaxy Z Flip 4 - Blue , 0% , was EGP499.00     Special Price EGP449.00\n",
      "\n",
      "Silicone Back Cover For Samsung Galaxy A52 - Yellow , 0% , was EGP99.00     Special Price EGP59.00\n",
      "\n",
      "Silicone Back Cover for Samsung Galaxy A23 - Red , 0% , was EGP99.00     Special Price EGP49.00\n",
      "\n",
      "Back Cover leather For Samsung Galaxy A73 - Blue , 0% , EGP249.00\n",
      "\n",
      "Glass Screen Protector For Samsung Galaxy M12- Black , 0% , was EGP149.00     Special Price EGP99.00\n",
      "\n",
      "Back Cover leather For Samsung Galaxy S22 Plus - Black , 0% , was EGP359.00     Special Price EGP299.00\n",
      "\n",
      "Back Cover leather For Samsung Galaxy A53 - Blue , 0% , EGP249.00\n",
      "\n",
      "Armor Screen Nano Glass anti Broken for Samsung Galaxy A13 , 0% , EGP199.00\n",
      "\n",
      "Glass Screen Protector For Samsung Galaxy A73 - Black , 0% , was EGP149.00     Special Price EGP99.00\n",
      "\n",
      "Silicone Back Cover for Samsung Galaxy A32 - Yellow , 0% , was EGP99.00     Special Price EGP49.00\n",
      "\n",
      "Silicone Back Cover Samsung Galaxy A03s - Black , 0% , was EGP99.00     Special Price EGP49.00\n",
      "\n",
      "Silicone Back Cover for Samsung Galaxy A33 - Black , 0% , was EGP99.00     Special Price EGP49.00\n",
      "\n",
      "Devia Mobile Screen Protector Nano TPH Intelligent Screen Antibacterial for Samsung Galaxy Note 20 , 0% , was EGP99.00     Special Price EGP20.00\n",
      "\n",
      "Q-Series Back cover Clear For Samsung Galaxy S23 Plus - Black Frame , 0% , EGP499.00\n",
      "\n",
      "Back Cover leather For Samsung Galaxy A73 - Black , 0% , EGP249.00\n",
      "\n",
      "Silicone Back Cover for Samsung Galaxy A23 - Mint Green , 0% , was EGP99.00     Special Price EGP49.00\n",
      "\n",
      "Back Cover Boter 3D for Samsung Galaxy A23 - Skin 4 , 0% , was EGP149.00     Special Price EGP99.00\n",
      "\n",
      "Armor Screen Nano Glass anti Broken for Samsung Galaxy A33 , 0% , EGP149.00\n",
      "\n",
      "Braided Solo Loop Band Strap For Samsung Galaxy Watch 46mm / Huawei GT2 / Gear S3 Frontier and Classic / Honor Magic 2 / Fossil - 22mm - Pink , 0% , EGP99.00\n",
      "\n",
      "Cover Leather Wrapped PC Inner Shell for Samsung Galaxy Z Flip 4 - Black , 0% , was EGP499.00     Special Price EGP449.00\n",
      "\n",
      "Cover Leather Wrapped PC Inner Shell for Samsung Galaxy  Z Fold 4 - Black , 0% , was EGP499.00     Special Price EGP449.00\n",
      "\n",
      "Q.Y Clear Case Shockproof Protection Slim Anti-Scratch for Samsung Galaxy S22 Ultra - Black , 0% , was EGP399.00     Special Price EGP339.00\n",
      "\n",
      "Flip Leather Cover with internal Rubber Protection for Samsung Galaxy Tab A7 LTE (SM-T505) - Brown , 0% , was EGP379.00     Special Price EGP329.00\n",
      "\n",
      "Back Cover leather For Samsung Galaxy S22 - Black , 0% , was EGP359.00     Special Price EGP299.00\n",
      "\n",
      "Back Cover leather For Samsung Galaxy A53 - Black , 0% , EGP249.00\n",
      "\n",
      "Back Cover leather For Samsung Galaxy A73 - Red , 0% , EGP249.00\n",
      "\n",
      "Back cover Alouchoo Shock Absorption Technology Bumper Soft TPU for Samsung Galaxy S22 Plus - Clear , 0% , was EGP299.00     Special Price EGP249.00\n",
      "\n",
      "Armor Screen Nano Glass anti Broken for Samsung Galaxy Tab A7 Lite , 0% , EGP199.00\n",
      "\n",
      "Back Cover Boter 3D for Samsung Galaxy A23 - Skin 6 , 0% , was EGP149.00     Special Price EGP99.00\n",
      "\n",
      "Back Cover Boter 3D for Samsung Galaxy A13 - Skin 10 , 0% , was EGP149.00     Special Price EGP99.00\n",
      "\n",
      "Braided Solo Loop Band Strap For Samsung Galaxy Watch 46mm / Huawei GT2 / Gear S3 Frontier and Classic / Honor Magic 2 / Fossil - 22mm- Blue , 0% , EGP99.00\n",
      "\n",
      "Braided Solo Loop Band Strap For Samsung Galaxy Watch 46mm / Huawei GT2 / Gear S3 Frontier and Classic / Honor Magic 2 / Fossil - 22mm - White , 0% , EGP99.00\n",
      "\n",
      "Braided Solo Loop Band Strap For Samsung Galaxy Watch 46mm / Huawei GT2 / Gear S3 Frontier and Classic / Honor Magic 2 / Fossil - 22mm -Blue*Black , 0% , EGP99.00\n",
      "\n",
      "Case TPU Protector For Samsung Galaxy Watch4 Classic (46mm) - Clear , 0% , was EGP179.00     Special Price EGP99.00\n",
      "\n",
      "Braided Solo Loop Band Strap For Samsung Galaxy Watch 46mm / Huawei GT2 / Gear S3 Frontier and Classic / Honor Magic 2 / Fossil - 22mm- Black*White , 0% , EGP99.00\n",
      "\n",
      "Back Cover Boter 3D for Samsung Galaxy A23 - Skin 2 , 0% , was EGP149.00     Special Price EGP99.00\n",
      "\n",
      "Back Cover Boter 3D for Samsung Galaxy A23 - Skin 5 , 0% , was EGP149.00     Special Price EGP99.00\n",
      "\n",
      "Silicone Back Cover for Samsung Galaxy A13 - Blue , 0% , was EGP99.00     Special Price EGP49.00\n",
      "\n",
      "Ceramic Screen Protector For Samsung Galaxy A21 & A21S - Black , 0% , was EGP49.00     Special Price EGP29.00\n",
      "\n",
      "Silicone Back Cover for Samsung Galaxy A72 - Purple , 0% , was EGP99.00     Special Price EGP49.00\n",
      "\n",
      "Q.Y Clear Case Shockproof Protection Slim Anti-Scratch for Samsung Galaxy S22 Ultra - Silver , 0% , was EGP399.00     Special Price EGP339.00\n",
      "\n",
      "Flip Leather Cover with internal Rubber Protection for Samsung Galaxy Tab A7 LTE (SM-T505) - Black , 0% , was EGP359.00     Special Price EGP329.00\n",
      "\n",
      "Q.Y Clear Case Shockproof Protection Slim Anti-Scratch for Samsung Galaxy S22 Ultra - Red , 0% , was EGP399.00     Special Price EGP319.00\n",
      "\n",
      "Back Cover Leather For Samsung Galaxy S22 Ultra - Green , 0% , was EGP359.00     Special Price EGP299.00\n",
      "\n",
      "Back Cover Boter 3D for Samsung Galaxy A33 - Skin 3 , 0% , was EGP149.00     Special Price EGP99.00\n",
      "\n",
      "Back Cover Boter 3D for Samsung Galaxy A13 - Skin 5 , 0% , was EGP149.00     Special Price EGP99.00\n",
      "\n",
      "Braided Solo Loop Band Strap For Samsung Galaxy Watch 46mm / Huawei GT2 / Gear S3 Frontier and Classic / Honor Magic 2 / Fossil - 22mm - White*Black , 0% , EGP99.00\n",
      "\n",
      "Braided Solo Loop Band Strap For Samsung Galaxy Watch 46mm / Huawei GT2 / Gear S3 Frontier and Classic / Honor Magic 2 / Fossil - 22mm -Dark gray , 0% , EGP99.00\n",
      "\n",
      "Silicone Back Cover for Samsung Galaxy A33 - Red , 0% , was EGP99.00     Special Price EGP49.00\n",
      "\n",
      "Cover Leather Wrapped PC Inner Shell for Samsung Galaxy Z Flip 4 - Brown , 0% , was EGP499.00     Special Price EGP449.00\n",
      "\n",
      "Cover Leather Wrapped PC Inner Shell for Samsung Galaxy  Z Fold 4 - Brown , 0% , was EGP499.00     Special Price EGP449.00\n",
      "\n",
      "Cover Leather Wrapped PC Inner Shell for Samsung Galaxy  Z Fold 4 - Blue , 0% , was EGP499.00     Special Price EGP449.00\n",
      "\n",
      "Flip Leather Cover with internal Rubber Protection for Samsung Galaxy Tab A7 LTE (SM-T505) - Blue , 0% , was EGP349.00     Special Price EGP319.00\n",
      "\n",
      "Q.Y Clear Case Shockproof Protection Slim Anti-Scratch for Samsung Galaxy S22 Ultra - Green , 0% , was EGP399.00     Special Price EGP319.00\n",
      "\n",
      "Armor 4 IN 1 Screen for Samsung Galaxy A53 , 0% , EGP299.00\n",
      "\n",
      "Back cover Alouchoo Shock Absorption Technology Bumper Soft TPU for Samsung Galaxy S22 - Clear , 0% , EGP299.00\n",
      "\n",
      "Back Cover Leather For Samsung Galaxy S22 Ultra - Blue , 0% , was EGP359.00     Special Price EGP299.00\n",
      "\n",
      "Nillkin Textured Case S Cam Shield Lens Protector for Samsung Galaxy S22 Ultra - Black , 0% , EGP299.00\n",
      "\n",
      "Back Cover leather For Samsung Galaxy A53 - Red , 0% , EGP249.00\n",
      "\n",
      "Back cover Alouchoo Shock Absorption Technology Bumper Soft TPU for Samsung Galaxy S22 Ultra - Clear , 0% , was EGP299.00     Special Price EGP249.00\n",
      "\n",
      "Back Cover Carbon Fiber for Samsung Galaxy A32 - Gold , 0% , was EGP179.00     Special Price EGP149.00\n",
      "\n",
      "Back Cover Carbon Fiber for Samsung Galaxy A32 - Black , 0% , was EGP179.00     Special Price EGP149.00\n",
      "\n",
      "Back Cover Boter 3D for Samsung Galaxy A33 - Skin 1 , 0% , was EGP149.00     Special Price EGP99.00\n",
      "\n",
      "Back Cover Boter 3D for Samsung Galaxy A33 - Skin 4 , 0% , was EGP149.00     Special Price EGP99.00\n",
      "\n",
      "Back Cover Boter 3D for Samsung Galaxy A33 - Skin 6 , 0% , was EGP149.00     Special Price EGP99.00\n",
      "\n",
      "Back Cover Boter 3D for Samsung Galaxy A33 - Skin 8 , 0% , was EGP149.00     Special Price EGP99.00\n",
      "\n",
      "Back Cover Boter 3D for Samsung Galaxy A33 - Skin 9 , 0% , was EGP149.00     Special Price EGP99.00\n",
      "\n",
      "Back Cover Boter 3D for Samsung Galaxy A13 - Skin 3 , 0% , was EGP149.00     Special Price EGP99.00\n",
      "\n",
      "Back Cover Boter 3D for Samsung Galaxy A13 - Skin 4 , 0% , was EGP149.00     Special Price EGP99.00\n",
      "\n",
      "Back Cover Boter 3D for Samsung Galaxy A33 - Skin 2 , 0% , was EGP149.00     Special Price EGP99.00\n",
      "\n",
      "Back Cover Boter 3D for Samsung Galaxy A33 - Skin 5 , 0% , was EGP149.00     Special Price EGP99.00\n",
      "\n",
      "Back Cover Boter 3D for Samsung Galaxy A33 - Skin 7 , 0% , was EGP149.00     Special Price EGP99.00\n",
      "\n",
      "Back Cover Boter 3D for Samsung Galaxy A13 - Skin 7 , 0% , was EGP149.00     Special Price EGP99.00\n",
      "\n",
      "Back Cover Boter 3D for Samsung Galaxy A23 - Skin 1 , 0% , was EGP149.00     Special Price EGP99.00\n",
      "\n",
      "Braided Solo Loop Band Strap For Samsung Galaxy Watch 46mm / Huawei GT2 / Gear S3 Frontier and Classic / Honor Magic 2 / Fossil - 22mm - Black*Red , 0% , EGP99.00\n",
      "\n",
      "Braided Solo Loop Band Strap For Samsung Galaxy Watch 46mm / Huawei GT2 / Gear S3 Frontier and Classic / Honor Magic 2 / Fossil - 22mm- Blue & Gray , 0% , EGP99.00\n",
      "\n",
      "Braided Solo Loop Band Strap For Samsung Galaxy Watch 46mm / Huawei GT2 / Gear S3 Frontier and Classic / Honor Magic 2 / Fossil - 22mm- Red , 0% , EGP99.00\n",
      "\n",
      "Braided Solo Loop Band Strap For Samsung Galaxy Watch 46mm / Huawei GT2 / Gear S3 Frontier and Classic / Honor Magic 2 / Fossil - 22mm - Gray , 0% , EGP99.00\n",
      "\n",
      "Braided Solo Loop Band Strap For Samsung Galaxy Watch 46mm / Huawei GT2 / Gear S3 Frontier and Classic / Honor Magic 2 / Fossil - 22mm - Gray*Black , 0% , EGP99.00\n",
      "\n",
      "Braided Solo Loop Band Strap For Samsung Galaxy Watch 46mm / Huawei GT2 / Gear S3 Frontier and Classic / Honor Magic 2 / Fossil - 22mm - Gray*Blue , 0% , EGP99.00\n",
      "\n",
      "Braided Solo Loop Band Strap For Samsung Galaxy Watch 46mm / Huawei GT2 / Gear S3 Frontier and Classic / Honor Magic 2 / Fossil - 22mm - Colors , 0% , EGP99.00\n",
      "\n",
      "Braided Solo Loop Band Strap For Samsung Galaxy Watch 46mm / Huawei GT2 / Gear S3 Frontier and Classic / Honor Magic 2 / Fossil - 22mm - Blue*White , 0% , EGP99.00\n",
      "\n",
      "Braided Solo Loop Band Strap For Samsung Galaxy Watch 46mm / Huawei GT2 / Gear S3 Frontier and Classic / Honor Magic 2 / Fossil - 22mm - Green*Black , 0% , EGP99.00\n",
      "\n",
      "Braided Solo Loop Band Strap For Samsung Galaxy Watch 46mm / Huawei GT2 / Gear S3 Frontier and Classic / Honor Magic 2 / Fossil - 22mm - Multi Color , 0% , EGP99.00\n",
      "\n",
      "Braided Solo Loop Band Strap For Samsung Galaxy Watch 46mm / Huawei GT2 / Gear S3 Frontier and Classic / Honor Magic 2 / Fossil - 22mm - Red*Black , 0% , EGP99.00\n",
      "\n",
      "Braided Solo Loop Band Strap For Samsung Galaxy Watch 46mm / Huawei GT2 / Gear S3 Frontier and Classic / Honor Magic 2 / Fossil - 22mm - White*Blue , 0% , EGP99.00\n",
      "\n",
      "Back Cover Boter 3D for Samsung Galaxy A13 - Skin 6 , 0% , was EGP149.00     Special Price EGP99.00\n",
      "\n",
      "Braided Solo Loop Band Strap For Samsung Galaxy Watch 46mm / Huawei GT2 / Gear S3 Frontier and Classic / Honor Magic 2 / Fossil - 22mm - Green , 0% , EGP99.00\n",
      "\n",
      "Braided Solo Loop Band Strap For Samsung Galaxy Watch 46mm / Huawei GT2 / Gear S3 Frontier and Classic / Honor Magic 2 / Fossil - 22mm - Brown , 0% , EGP99.00\n",
      "\n",
      "Glass Screen Protector For Samsung Galaxy M52 - Black , 0% , was EGP149.00     Special Price EGP99.00\n",
      "\n",
      "Glass Screen Protector For Samsung Galaxy Tab A 8.0 2019 , 0% , EGP79.00\n",
      "\n",
      "Silicone Back Cover for Samsung Galaxy A72 - Green , 0% , was EGP99.00     Special Price EGP59.00\n",
      "\n",
      "Silicone Back Cover for Samsung Galaxy A72 - Pink , 0% , was EGP99.00     Special Price EGP59.00\n",
      "\n",
      "Silicone Back Cover for Samsung Galaxy A13 - Red , 0% , was EGP99.00     Special Price EGP49.00\n",
      "\n",
      "Silicone Back Cover for Samsung Galaxy A53 - Black , 0% , was EGP99.00     Special Price EGP49.00\n",
      "\n",
      "Silicone Back Cover for Samsung Galaxy A53 - Mint green , 0% , was EGP99.00     Special Price EGP49.00\n",
      "\n",
      "Silicone Back Cover for Samsung Galaxy A53 - Red , 0% , was EGP99.00     Special Price EGP49.00\n",
      "\n",
      "Silicone Back Cover for Samsung Galaxy A13 - Pink , 0% , was EGP99.00     Special Price EGP49.00\n",
      "\n",
      "Silicone Back Cover for Samsung Galaxy A33 - Mint Green , 0% , was EGP99.00     Special Price EGP49.00\n",
      "\n",
      "Glass Screen Protector For Samsung Galaxy A12 - Black , 0% , was EGP79.00     Special Price EGP49.00\n",
      "\n",
      "Silicone Back Cover for Samsung Galaxy A72 - Yellow , 0% , was EGP99.00     Special Price EGP49.00\n",
      "\n",
      "Silicone Back Cover  for Samsung Galaxy A72 - Blue , 0% , was EGP99.00     Special Price EGP49.00\n",
      "\n",
      "Back Cover With Colored Silicone Edges And Camera Frame for Samsung A22 - Green , 0% , EGP99.00\n",
      "\n",
      "Back Cover With Colored Silicone Edges And Camera Frame for Samsung A22 - Red , 0% , EGP99.00\n",
      "\n",
      "Back Cover With Colored Silicone Edges And Camera Frame for Samsung A22 - Pink , 0% , EGP99.00\n",
      "\n",
      "Back Cover With Colored Silicone Edges And Camera Frame for Samsung A22 - Blue , 0% , EGP99.00\n",
      "\n",
      "Back Cover With Colored Silicone Edges And Camera Frame for Samsung A22 - Black , 0% , EGP99.00\n",
      "\n",
      "Boter Back Cover for Samsung Galaxy A22 - Green , 0% , EGP149.00\n",
      "\n",
      "Boter Back Cover for Samsung Galaxy A22 - Red , 0% , EGP149.00\n",
      "\n",
      "Silicone Back Cover For Samsung Galaxy A32 - Black , 0% , was EGP99.00     Special Price EGP59.00\n",
      "\n",
      "Back Cover Carbon Fiber for Samsung Galaxy A32 - Blue , 0% , was EGP189.00     Special Price EGP149.00\n",
      "\n",
      "Glass Screen Protector For Samsung A71/ Samsung Note 10 Lite/Samsung M51/ Xiaomi Poco X3 - Black , 67% , was EGP79.00     Special Price EGP49.00\n",
      "\n",
      "Silicone Back Cover For Samsung Galaxy A32 - Red , 0% , was EGP99.00     Special Price EGP59.00\n",
      "\n",
      "Silicone Back Cover For Samsung Galaxy A32 - Blue , 0% , was EGP99.00     Special Price EGP59.00\n",
      "\n",
      "Silicone Back Cover for Samsung Galaxy A72 - Black , 100% , was EGP99.00     Special Price EGP49.00\n",
      "\n",
      "Silicone Back Cover for Samsung Galaxy A72 - Red , 0% , was EGP99.00     Special Price EGP49.00\n",
      "\n",
      "Silicone Back Cover for Samsung Galaxy A32 - Green , 0% , was EGP99.00     Special Price EGP49.00\n",
      "\n",
      "Samsung Galaxy Smart Tag 2 pack - Black\\Oatmeal , 0% , was EGP2199.00     Special Price EGP1999.00\n",
      "\n",
      "Stainless Steel Metal Watch Band 22mm Strap For Watch Huawei Watch GT 1 / 2 46mm  &Samsung Galaxy Watch 46mm - Sliver , 0% , EGP479.00\n",
      "\n",
      "Braided Solo Loop Band 20mm for Samsung Galaxy Watch 4 Classic 42/46mm - 40/44mm - Blueblack , 0% , EGP99.00\n",
      "\n",
      "Braided Solo Loop Band 20mm for Samsung Galaxy Watch 4 Classic 42/46mm - 40/44mm - Black , 0% , EGP99.00\n",
      "\n",
      "Stainless Steel Stalet Replacement Strap 20mm for Samsung Galaxy Watch 4 Classic 42/46mm, 4 - 40/44mm- Sliver , 0% , was EGP459.00     Special Price EGP299.00\n",
      "\n",
      "Stainless Steel Stalet Replacement Strap 20mm for Samsung Galaxy Watch 4 Classic 42/46mm, 4 - 40/44mm- Black , 0% , was EGP499.00     Special Price EGP299.00\n",
      "\n",
      "Stainless Steel Metal Replacement Strap 20mm For Samsung Galaxy Watch 4 Classic 42/46mm / 4 - 40/44mm - Black , 0% , was EGP399.00     Special Price EGP249.00\n",
      "\n",
      "Stainless Steel Metal Replacement Strap 20mm For Samsung Galaxy Watch 4 Classic 42/46mm / 4 - 40/44mm - Sliver , 0% , was EGP399.00     Special Price EGP249.00\n",
      "\n",
      "Silicone Soft Watch Band Strap For Samsung Galaxy Watch 46mm / Huawei GT2 /Gear S3 Frontier and Classic /Honor Magic 2 / Fossil 22mm - Green , 0% , was EGP179.00     Special Price EGP149.00\n",
      "\n",
      "Braided Solo Loop Band 20mm for Samsung Galaxy Watch 4 Classic 42/46mm - 40/44mm - Blue*Gray , 0% , EGP99.00\n",
      "\n",
      "Braided Solo Loop Band 20mm for Samsung Galaxy Watch 4 Classic 42/46mm - 40/44mm - White , 0% , EGP99.00\n",
      "\n",
      "Braided Solo Loop Band 20mm for Samsung Galaxy Watch 4 Classic 42/46mm - 40/44mm - Gray , 0% , EGP99.00\n",
      "\n",
      "Ceramic Screen Protector For Realme 6 Pro / Oppo A93 / Samsung Galaxy M11/ Xiaomi Note 9 - Black , 0% , was EGP49.00     Special Price EGP29.00\n",
      "\n",
      "Stainless Steel Stalet Replacement Strap 22mm for Huawei Watch GT 1 / 2 /3 46mm & Samsung Galaxy Watch 46mm - Sliver , 0% , was EGP459.00     Special Price EGP299.00\n",
      "\n",
      "Stainless Steel Metal Replacement Strap 20mm For Samsung Galaxy Watch 4 Classic 42/46mm / 4 - 40/44mm - Sliver*Black , 0% , was EGP399.00     Special Price EGP249.00\n",
      "\n",
      "Orient Stainless Steel Watch Band 22mm Strap For Watch Huawei Watch GT 1 / 2 46mm & Samsung Galaxy Watch 46mm - Gold , 0% , was EGP479.00     Special Price EGP249.00\n",
      "\n",
      "Orient Stainless Steel Watch Band 22mm Strap For Huawei Watch GT 1 / 2 46mm & Samsung Galaxy Watch 46mm - Black*Rose Gold , 0% , was EGP479.00     Special Price EGP249.00\n",
      "\n",
      "Braided Solo Loop Band Strap For Samsung Galaxy Watch 46mm / Huawei GT2 / Gear S3 Frontier and Classic / Honor Magic 2 / Fossil - 22mm - Black*Gray , 0% , EGP99.00\n",
      "\n",
      "Braided Solo Loop Band 20mm for Samsung Galaxy Watch 4 Classic 42/46mm - 40/44mm - Green , 0% , EGP99.00\n",
      "\n",
      "Braided Solo Loop Band 20mm for Samsung Galaxy Watch 4 Classic 42/46mm - 40/44mm - Black*Red , 0% , EGP99.00\n",
      "\n",
      "Braided Solo Loop Band 20mm for Samsung Galaxy Watch 4 Classic 42/46mm - 40/44mm - Red , 0% , EGP99.00\n",
      "\n",
      "Braided Solo Loop Band 20mm for Samsung Galaxy Watch 4 Classic 42/46mm - 40/44mm - Blue , 0% , EGP99.00\n",
      "\n",
      "Samsung 25W Travel Adapter USB-C - EP-TA800NBEGWW - Black , 0% , EGP649.00\n",
      "\n",
      "Glass Screen Protector For Samsung Galaxy S21 Ultra - Black , 0% , was EGP199.00     Special Price EGP149.00\n",
      "\n",
      "Samsung 45W Travel Adapter with Type-C Charging Cable 1M - EP-TA845XBEGWW - Black , 0% , EGP1509.00\n",
      "\n",
      "Armor Screen Nano Glass anti Broken for Samsung A23 , 0% , EGP199.00\n",
      "\n",
      "Samsung 25W Travel Adapter with Type-C Charging Cable - EP-TA800XBEGWW - Black , 80% , EGP1089.00\n",
      "\n",
      "Samsung 65W PD Power Adapter Trio USB-C 2 Ports, USB-A Port - EP-T6530NBEGWW - Black , 0% , was EGP2149.00     Special Price EGP1939.00\n",
      "\n",
      "Samsung Convert USB Type-C to Micro USB - White , 0% , was EGP219.00     Special Price EGP139.00\n",
      "\n",
      "Armor Screen Nano Glass anti Broken for Samsung A73 , 0% , EGP249.00\n",
      "\n",
      "Samsung Cable From Type C to C 5A 1.8m - Black , 0% , was EGP799.00     Special Price EGP609.00\n",
      "\n",
      "Armor Screen Nano Glass Anti Broken for Samsung A53 , 0% , EGP120.00\n",
      "\n",
      "Case for Samsung Watch 4 46mm Full Protective - Rose Gold , 0% , EGP99.00\n",
      "\n",
      "Case for Samsung Watch 4 46mm Full Protective - White , 0% , EGP99.00\n",
      "\n",
      "Back Cover Magnetic For Samsung S22 Ultra Magsafing Support Wireless Charging Cover - Transparent , 0% , was EGP199.00     Special Price EGP149.00\n",
      "\n",
      "Case for Samsung Watch 4 46mm Full Protective - Green , 0% , EGP99.00\n",
      "\n",
      "Samsung C to C Cable PD 1m - Black , 0% , EGP649.00\n",
      "\n",
      "Case for Samsung Watch 4 46mm Full Protective - Blue , 0% , EGP99.00\n",
      "\n",
      "Armor Screen Nano Glass Anti Fingerprint Matte for Samsung A32 , 0% , EGP99.00\n",
      "\n",
      "Armor Screen Nano Glass Anti broken for Samsung A32 , 0% , EGP99.00\n",
      "\n",
      "Case for Samsung Watch 4 46mm Full Protective - Black , 0% , EGP99.00\n",
      "\n",
      "Case for Samsung Watch 4 46mm Full Protective - Clear , 0% , EGP99.00\n",
      "\n",
      "Devia Smart Series PD&QC Quick Charger EU 30W Apple PD20W Huawei & Samsung Super Quick Charge - White , 0% , was EGP639.00     Special Price EGP509.00\n",
      "\n",
      "Smart Charger For Huawei Active 1, Active 2 / Samsung Wtch3, Watch 4 , 0% , was EGP729.00     Special Price EGP509.00\n",
      "\n",
      "Smart Charger for Samsung Fit 2 , 0% , was EGP289.00     Special Price EGP199.00\n",
      "\n",
      "Smart Charger For Huawei Active 1, Active 2 / Samsung Watch 3, Watch 4 , 0% , was EGP699.00     Special Price EGP489.00\n",
      "\n",
      "Smart Charger For Samsung Gear S3 , 0% , was EGP699.00     Special Price EGP489.00\n",
      "\n",
      "Camera Lens Glass for Samsung S22 Ultra , 0% , EGP149.00\n",
      "\n",
      "Silicone Case FreeBuds Pro Case with Keychain - White , 0% , was EGP119.00     Special Price EGP99.00\n",
      "\n",
      "Silicone Case Buds Live & Buds Pro Case with Keychain - Green , 0% , was EGP149.00     Special Price EGP109.00\n",
      "\n",
      "Silicone Case Buds Live & Buds Pro Case with Keychain - Blue , 0% , was EGP149.00     Special Price EGP99.00\n",
      "\n",
      "Karl Lagerfeld Silicone Karl's Head Hard Case for iPhone 14 Plus- Pink , 0% , EGP1599.00\n",
      "\n"
     ]
    }
   ],
   "source": [
    "#for looping multible pages\n",
    "for j in range (1,7) :\n",
    "    url= f'https://2b.com.eg/en/catalogsearch/result?p={j}&q=samsung+' #f= format \n",
    "    res=requests.get(url)\n",
    "    soup=bs(res.text)\n",
    "    container = soup.find_all ('div',{'class':\"product details product-item-details\"})\n",
    "    for i in container :\n",
    "        item_name = i.find_all ('a',{'class':'product-item-link'})\n",
    "        item_name =item_name [0].text.strip()\n",
    "        item_rating = i.find_all ('div',{'class':'rating-result'})\n",
    "        item_rating = item_rating[0].text.strip()\n",
    "        item_price = i.find_all('div',{'class':'price-box'})\n",
    "        item_price =item_price[0].text.strip().replace (\"\\n\",\" \").replace(\",\",\"\")\n",
    "        file.write(item_name+\" , \"+item_rating+\" , \"+item_price +\"\\n\")\n",
    "        print(item_name+\" , \"+item_rating+\" , \"+item_price)\n",
    "        print( )\n"
   ]
  },
  {
   "cell_type": "code",
   "execution_count": 23,
   "id": "141ba0bd",
   "metadata": {},
   "outputs": [],
   "source": [
    "#note : the price is incorrect :)))))))"
   ]
  },
  {
   "cell_type": "code",
   "execution_count": 24,
   "id": "01870c91",
   "metadata": {},
   "outputs": [],
   "source": [
    "#now we can import data as CSV file :))))))"
   ]
  },
  {
   "cell_type": "markdown",
   "id": "35b46b33",
   "metadata": {},
   "source": [
    "# Thank you \n"
   ]
  },
  {
   "cell_type": "code",
   "execution_count": 25,
   "id": "f0ba6251",
   "metadata": {},
   "outputs": [],
   "source": [
    "#finally we must close file connection "
   ]
  },
  {
   "cell_type": "code",
   "execution_count": 26,
   "id": "d0dad65f",
   "metadata": {},
   "outputs": [],
   "source": [
    "file.close ()"
   ]
  },
  {
   "cell_type": "code",
   "execution_count": null,
   "id": "8f1015a7",
   "metadata": {},
   "outputs": [],
   "source": []
  }
 ],
 "metadata": {
  "kernelspec": {
   "display_name": "Python 3 (ipykernel)",
   "language": "python",
   "name": "python3"
  },
  "language_info": {
   "codemirror_mode": {
    "name": "ipython",
    "version": 3
   },
   "file_extension": ".py",
   "mimetype": "text/x-python",
   "name": "python",
   "nbconvert_exporter": "python",
   "pygments_lexer": "ipython3",
   "version": "3.10.9"
  }
 },
 "nbformat": 4,
 "nbformat_minor": 5
}
